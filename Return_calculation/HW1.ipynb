{
 "cells": [
  {
   "cell_type": "markdown",
   "metadata": {},
   "source": [
    "## Homework 1 Corporate Finance\n",
    "## YiTao Hu\n",
    "\n",
    "\n",
    "## Executive Summary\n",
    "We computed the gross and excess returns of S&P500 stock index from 1973 January 1st to 2018 December 31st. For the index return data, we used daily index return collected from CRSP database. As for the risk-free rates, we used monthly, annual and five-year Treasury bond rates. Also, we used Federal Fund Overnight borrowing rates as a good approximation. \n",
    "\n",
    "## Homework Text\n",
    "The daily, monthly, annual and five year gross arithmetic and geometric return is computed using the following formulas respectively:\n",
    "$$\n",
    "\\bar R_{arth}=\\frac{\\sum_t^TR_t}{T}\\quad\\text{and}\\quad \\bar R_{geo}=\\sqrt[T]{\\prod_t^T (1+R_t)}-1.\n",
    "$$\n",
    "This gives us the results of the gross returns: "
   ]
  },
  {
   "cell_type": "code",
   "execution_count": 21,
   "metadata": {},
   "outputs": [
    {
     "data": {
      "text/html": [
       "<div>\n",
       "<style scoped>\n",
       "    .dataframe tbody tr th:only-of-type {\n",
       "        vertical-align: middle;\n",
       "    }\n",
       "\n",
       "    .dataframe tbody tr th {\n",
       "        vertical-align: top;\n",
       "    }\n",
       "\n",
       "    .dataframe thead th {\n",
       "        text-align: right;\n",
       "    }\n",
       "</style>\n",
       "<table border=\"1\" class=\"dataframe\">\n",
       "  <thead>\n",
       "    <tr style=\"text-align: right;\">\n",
       "      <th></th>\n",
       "      <th>Athematic</th>\n",
       "      <th>Geometric</th>\n",
       "    </tr>\n",
       "  </thead>\n",
       "  <tbody>\n",
       "    <tr>\n",
       "      <th>Daily</th>\n",
       "      <td>0.110001</td>\n",
       "      <td>0.093286</td>\n",
       "    </tr>\n",
       "    <tr>\n",
       "      <th>Monthly</th>\n",
       "      <td>0.101907</td>\n",
       "      <td>0.088891</td>\n",
       "    </tr>\n",
       "    <tr>\n",
       "      <th>Yearly</th>\n",
       "      <td>0.104561</td>\n",
       "      <td>0.088540</td>\n",
       "    </tr>\n",
       "    <tr>\n",
       "      <th>Five_Year</th>\n",
       "      <td>0.096927</td>\n",
       "      <td>0.077514</td>\n",
       "    </tr>\n",
       "  </tbody>\n",
       "</table>\n",
       "</div>"
      ],
      "text/plain": [
       "           Athematic  Geometric\n",
       "Daily       0.110001   0.093286\n",
       "Monthly     0.101907   0.088891\n",
       "Yearly      0.104561   0.088540\n",
       "Five_Year   0.096927   0.077514"
      ]
     },
     "execution_count": 21,
     "metadata": {},
     "output_type": "execute_result"
    }
   ],
   "source": [
    "gross_rtn_df"
   ]
  },
  {
   "cell_type": "markdown",
   "metadata": {},
   "source": [
    "For the excess return, we subtract the risk-free rate from the stock index return. Mathematically, the arithmetic and geometric mean is computed as follows:\n",
    "$$\n",
    "\\bar R_{arth}=\\frac{\\sum_t^T(R_t - r_f)}{T}\\quad\\text{and}\\quad \\bar R_{geo}=\\sqrt[n]{\\frac{\\prod_t^T(1+R_t)}{\\prod_t^T(1+r_{ft})}}.\n",
    "$$\n",
    "This gives us the results of the gross returns: "
   ]
  },
  {
   "cell_type": "code",
   "execution_count": 22,
   "metadata": {},
   "outputs": [
    {
     "data": {
      "text/html": [
       "<div>\n",
       "<style scoped>\n",
       "    .dataframe tbody tr th:only-of-type {\n",
       "        vertical-align: middle;\n",
       "    }\n",
       "\n",
       "    .dataframe tbody tr th {\n",
       "        vertical-align: top;\n",
       "    }\n",
       "\n",
       "    .dataframe thead th {\n",
       "        text-align: right;\n",
       "    }\n",
       "</style>\n",
       "<table border=\"1\" class=\"dataframe\">\n",
       "  <thead>\n",
       "    <tr style=\"text-align: right;\">\n",
       "      <th></th>\n",
       "      <th>Athematic</th>\n",
       "      <th>Geometric</th>\n",
       "    </tr>\n",
       "  </thead>\n",
       "  <tbody>\n",
       "    <tr>\n",
       "      <th>Daily</th>\n",
       "      <td>0.069190</td>\n",
       "      <td>0.053081</td>\n",
       "    </tr>\n",
       "    <tr>\n",
       "      <th>Monthly</th>\n",
       "      <td>0.044305</td>\n",
       "      <td>0.031834</td>\n",
       "    </tr>\n",
       "    <tr>\n",
       "      <th>Yearly</th>\n",
       "      <td>0.052688</td>\n",
       "      <td>0.035477</td>\n",
       "    </tr>\n",
       "    <tr>\n",
       "      <th>Five_Year</th>\n",
       "      <td>0.049050</td>\n",
       "      <td>0.022451</td>\n",
       "    </tr>\n",
       "  </tbody>\n",
       "</table>\n",
       "</div>"
      ],
      "text/plain": [
       "           Athematic  Geometric\n",
       "Daily       0.069190   0.053081\n",
       "Monthly     0.044305   0.031834\n",
       "Yearly      0.052688   0.035477\n",
       "Five_Year   0.049050   0.022451"
      ]
     },
     "execution_count": 22,
     "metadata": {},
     "output_type": "execute_result"
    }
   ],
   "source": [
    "excess_rtn_df"
   ]
  },
  {
   "cell_type": "markdown",
   "metadata": {},
   "source": [
    "Also, we annualize the returns using the following formula:\n",
    "$$\n",
    "\\left(1 + \\frac{\\bar R}{N}\\right)^N - 1 \n",
    "$$\n",
    "\n",
    "## Code\n",
    "The code used to generate the outputs above is as followed:"
   ]
  },
  {
   "cell_type": "code",
   "execution_count": 17,
   "metadata": {},
   "outputs": [],
   "source": [
    "import numpy as np\n",
    "import pandas as pd\n",
    "from scipy import stats"
   ]
  },
  {
   "cell_type": "code",
   "execution_count": 18,
   "metadata": {},
   "outputs": [],
   "source": [
    "SP500_df=pd.read_csv('S&P500.csv')\n",
    "Risk_free_Rates=pd.read_csv('risk_free_rates.csv')\n",
    "\n",
    "SP500_df=SP500_df.set_index(pd.to_datetime(SP500_df['caldt']))\n",
    "Risk_free_Rates=Risk_free_Rates.set_index(pd.to_datetime(Risk_free_Rates['date']))\n",
    "\n",
    "returns=pd.merge(SP500_df,Risk_free_Rates,left_index=True,right_index=True)\n",
    "returns=returns.drop(columns=['caldt','date'],axis=1)\n",
    "returns=returns.dropna()\n",
    "\n",
    "returns[['ED_M1','FF_O','TCMNOM_Y1','TCMNOM_Y5']]=returns[['ED_M1','FF_O','TCMNOM_Y1','TCMNOM_Y5']]/100\n",
    "returns['ED_M1']=(returns['ED_M1']+1)**(1/12)-1\n",
    "returns['FF_O']=(returns['FF_O']+1)**(1/360)-1\n",
    "returns['TCMNOM_Y5']=(returns['TCMNOM_Y5']+1)**(5)-1\n",
    "SP500_returns=returns[['vwretd','ewretd']]"
   ]
  },
  {
   "cell_type": "code",
   "execution_count": 19,
   "metadata": {},
   "outputs": [],
   "source": [
    "Risk_free_rates=returns[['FF_O','ED_M1','TCMNOM_Y1','TCMNOM_Y5']]\n",
    "\n",
    "arthi_d_rtn=SP500_returns.mean()#compute arthimatic mean return \n",
    "arthi_d_rtn=(arthi_d_rtn+1)**260-1\n",
    "geo_d_rtn=stats.gmean(SP500_returns+1)-1 #compute daily geometric return \n",
    "geo_d_rtn=(geo_d_rtn+1)**260-1\n",
    "arth_d_ex_rtn=SP500_returns.mean()-Risk_free_rates.FF_O.mean() #compute daily arithmatic ex-return mean \n",
    "arth_d_ex_rtn=(arth_d_ex_rtn+1)**260-1\n",
    "geo_d_ex_rtn=(stats.gmean(SP500_returns+1)/stats.gmean(Risk_free_rates.FF_O+1)-1) #compute daily geometric ex-return \n",
    "geo_d_ex_rtn=(geo_d_ex_rtn+1)**260-1\n",
    "#convert daily to monthly return\n",
    "monthly_rtn=SP500_returns.resample('M',label='right').apply(lambda r: ((r+1).cumprod()-1).last('D')) \n",
    "monthly_Rf=Risk_free_rates.ED_M1.resample('M').apply(lambda r: r.last('D')) \n",
    "arth_m_rtn=monthly_rtn.mean()\n",
    "arth_m_rtn=(arth_m_rtn+1)**12-1\n",
    "geo_m_rtn=stats.gmean(monthly_rtn+1)-1\n",
    "geo_m_rtn=(geo_m_rtn+1)**12-1\n",
    "arth_m_ex_rtn=monthly_rtn.mean()-monthly_Rf.mean()\n",
    "arth_m_ex_rtn=(arth_m_ex_rtn+1)**12-1\n",
    "geo_m_ex_rtn=(stats.gmean(monthly_rtn+1)/stats.gmean(monthly_Rf+1)-1)\n",
    "geo_m_ex_rtn=(geo_m_ex_rtn+1)**12-1\n",
    "#convert daily to annual return\n",
    "annual_rtn=SP500_returns.resample('Y',label='right').apply(lambda r: ((r+1).cumprod()-1).last('D')) \n",
    "annual_Rf=Risk_free_rates.TCMNOM_Y1.resample('Y').apply(lambda r: r.last('D')) \n",
    "arth_y_rtn=annual_rtn.mean()\n",
    "geo_y_rtn=stats.gmean(annual_rtn+1)-1 \n",
    "arth_y_ex_rtn=annual_rtn.mean()-annual_Rf.mean()\n",
    "geo_y_ex_rtn=(stats.gmean(annual_rtn+1)/stats.gmean(annual_Rf+1)-1)\n",
    "#convert daily to 5-year return\n",
    "five_Y_rtn=SP500_returns.resample('5Y',label='right').apply(lambda r: ((r+1).cumprod()-1).last('D')) \n",
    "five_yr_Rf=Risk_free_rates.TCMNOM_Y5.resample('5Y').apply(lambda r: r.last('D')) \n",
    "five_y_arth=five_Y_rtn.mean()\n",
    "five_y_arth=(1+five_y_arth)**0.2-1\n",
    "five_y_geo=stats.gmean(five_Y_rtn+1)-1\n",
    "five_y_geo=(1+five_y_geo)**0.2-1\n",
    "arth_5y_ex_rtn=five_Y_rtn.mean()-five_yr_Rf.mean()\n",
    "arth_5y_ex_rtn=(1+arth_5y_ex_rtn)**0.2-1\n",
    "geo_5y_ex_rtn=(stats.gmean(five_Y_rtn+1)/stats.gmean(five_yr_Rf+1)-1)\n",
    "geo_5y_ex_rtn=(1+geo_5y_ex_rtn)**0.2-1"
   ]
  },
  {
   "cell_type": "code",
   "execution_count": 20,
   "metadata": {},
   "outputs": [],
   "source": [
    "gross_rtn_df=pd.DataFrame(data=[[arthi_d_rtn[0],geo_d_rtn[0]],[arth_m_rtn[0],geo_m_rtn[0]],[arth_y_rtn[0],geo_y_rtn[0]],\n",
    "                               [five_y_arth[0],five_y_geo[0]]],index=['Daily','Monthly','Yearly','Five_Year'],\n",
    "                         columns=['Athematic','Geometric'])\n",
    "excess_rtn_df=pd.DataFrame(data=[[arth_d_ex_rtn[0],geo_d_ex_rtn[0]],[arth_m_ex_rtn[0],geo_m_ex_rtn[0]],[arth_y_ex_rtn[0],geo_y_ex_rtn[0]],\n",
    "                               [arth_5y_ex_rtn[0],geo_5y_ex_rtn[0]]],index=['Daily','Monthly','Yearly','Five_Year'],\n",
    "                         columns=['Athematic','Geometric'])\n"
   ]
  }
 ],
 "metadata": {
  "kernelspec": {
   "display_name": "Python 3",
   "language": "python",
   "name": "python3"
  },
  "language_info": {
   "codemirror_mode": {
    "name": "ipython",
    "version": 3
   },
   "file_extension": ".py",
   "mimetype": "text/x-python",
   "name": "python",
   "nbconvert_exporter": "python",
   "pygments_lexer": "ipython3",
   "version": "3.7.1"
  }
 },
 "nbformat": 4,
 "nbformat_minor": 2
}
